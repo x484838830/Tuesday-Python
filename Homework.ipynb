{
 "cells": [
  {
   "cell_type": "code",
   "execution_count": 1,
   "metadata": {},
   "outputs": [
    {
     "name": "stdout",
     "output_type": "stream",
     "text": [
      "Fashrenheit100 is Celsius degree\n",
      "37.77777777777778\n"
     ]
    }
   ],
   "source": [
    "#第一章 1\n",
    "#Conver Fashrenheit to celsius\n",
    "print('Fashrenheit100 is Celsius degree')\n",
    "print(5/9*(100-32))"
   ]
  },
  {
   "cell_type": "code",
   "execution_count": 5,
   "metadata": {},
   "outputs": [
    {
     "name": "stdout",
     "output_type": "stream",
     "text": [
      "90 feet\n",
      "2745.0\n"
     ]
    }
   ],
   "source": [
    "#2 1-17 \n",
    "print('90 feet')\n",
    "print(90*30.5)"
   ]
  },
  {
   "cell_type": "code",
   "execution_count": 9,
   "metadata": {},
   "outputs": [],
   "source": [
    "#3 1-17\n",
    "#(a)1.單雙引號錯誤  2.缺少單雙引號  3.大小寫\n",
    "#(b)1.大小寫錯誤  \n",
    "#(c)1.是#字號  2.212-32要括號\n",
    "#(d)1.單雙引號錯誤 2.多一個f  3.是print\n",
    "#(e)1.print 2.print000\n"
   ]
  },
  {
   "cell_type": "code",
   "execution_count": 10,
   "metadata": {},
   "outputs": [
    {
     "name": "stdout",
     "output_type": "stream",
     "text": [
      "30.25\n"
     ]
    }
   ],
   "source": [
    "#4. 1-18\n",
    "print(100*0.3025)"
   ]
  },
  {
   "cell_type": "code",
   "execution_count": 11,
   "metadata": {},
   "outputs": [
    {
     "name": "stdout",
     "output_type": "stream",
     "text": [
      "127.0\n"
     ]
    }
   ],
   "source": [
    "#5 1-18\n",
    "print(50*2.54)"
   ]
  },
  {
   "cell_type": "code",
   "execution_count": 13,
   "metadata": {},
   "outputs": [
    {
     "name": "stdout",
     "output_type": "stream",
     "text": [
      "5/9*(100-32)\n",
      "5/98(0-32)\n"
     ]
    }
   ],
   "source": [
    "#6 1-18\n",
    "print('5/9*(100-32)')\n",
    "print('5/98(0-32)')"
   ]
  },
  {
   "cell_type": "code",
   "execution_count": 16,
   "metadata": {},
   "outputs": [
    {
     "name": "stdout",
     "output_type": "stream",
     "text": [
      "|     12345        12   1234567|\n",
      "|        12   1234567       123|\n",
      "|   1234567       123     12345|\n"
     ]
    }
   ],
   "source": [
    "#第二章 2-20 1. (a)\n",
    "print('|%10d %9d %9d|'%(12345,12,1234567))\n",
    "print('|%10d %9d %9d|'%(12,1234567,123))\n",
    "print('|%10d %9d %9d|'%(1234567,123,12345))"
   ]
  },
  {
   "cell_type": "code",
   "execution_count": 19,
   "metadata": {},
   "outputs": [
    {
     "name": "stdout",
     "output_type": "stream",
     "text": [
      "Department  \n",
      "of          \n",
      "Computer    \n",
      "Science     \n",
      "\n"
     ]
    }
   ],
   "source": [
    "#(b) 2-20\n",
    "print(format('Department','12s'))\n",
    "print(format('of','12s'))\n",
    "print(format('Computer','12s'))\n",
    "print(format('Science','12s'))\n",
    "print()"
   ]
  },
  {
   "cell_type": "code",
   "execution_count": 20,
   "metadata": {},
   "outputs": [
    {
     "name": "stdout",
     "output_type": "stream",
     "text": [
      "  Department\n",
      "          of\n",
      "    Computer\n",
      "     Science\n",
      "\n"
     ]
    }
   ],
   "source": [
    "#(c) 2-20\n",
    "print(format('Department','>12s'))\n",
    "print(format('of','>12s'))\n",
    "print(format('Computer','>12s'))\n",
    "print(format('Science','>12s'))\n",
    "print()"
   ]
  },
  {
   "cell_type": "code",
   "execution_count": 21,
   "metadata": {},
   "outputs": [
    {
     "name": "stdout",
     "output_type": "stream",
     "text": [
      "    123.46\n",
      "  12345.68\n"
     ]
    }
   ],
   "source": [
    "#(D) 2-20\n",
    "print(format(123.456,'10.2f'))\n",
    "print(format(12345.678,'10.2f'))"
   ]
  },
  {
   "cell_type": "code",
   "execution_count": 22,
   "metadata": {},
   "outputs": [
    {
     "name": "stdout",
     "output_type": "stream",
     "text": [
      "i=100\n",
      "i=100,j=200\n"
     ]
    }
   ],
   "source": [
    "#(e)\n",
    "print('i=%d'%(100))\n",
    "print('i=%d,j=%d'%(100,200))"
   ]
  },
  {
   "cell_type": "code",
   "execution_count": 24,
   "metadata": {},
   "outputs": [
    {
     "name": "stdout",
     "output_type": "stream",
     "text": [
      "100 200\n",
      "100\n",
      "200\n",
      "\n"
     ]
    }
   ],
   "source": [
    "#第三章 3-20 1. (a)\n",
    "a=100\n",
    "b=200\n",
    "c,d=a,b\n",
    "print(c,d)\n",
    "print(c)\n",
    "print(d)\n",
    "print()"
   ]
  },
  {
   "cell_type": "code",
   "execution_count": 27,
   "metadata": {},
   "outputs": [
    {
     "name": "stdout",
     "output_type": "stream",
     "text": [
      "100 200\n",
      "100200***Over\n"
     ]
    }
   ],
   "source": [
    "#(b)\n",
    "a=100\n",
    "b=200\n",
    "c,d=a,b\n",
    "print(c,d)\n",
    "print(c,end='')\n",
    "print(d,end='***')\n",
    "print('Over')"
   ]
  },
  {
   "cell_type": "code",
   "execution_count": 29,
   "metadata": {},
   "outputs": [
    {
     "name": "stdout",
     "output_type": "stream",
     "text": [
      "100 200\n",
      "100$and\n",
      "200***Over\n"
     ]
    }
   ],
   "source": [
    "#(c)\n",
    "a=100\n",
    "b=200\n",
    "c,d=a,b\n",
    "print(c,d)\n",
    "print(c,end='$')\n",
    "print('and')\n",
    "print(d,end='***')\n",
    "print('Over')"
   ]
  },
  {
   "cell_type": "code",
   "execution_count": 34,
   "metadata": {},
   "outputs": [
    {
     "name": "stdout",
     "output_type": "stream",
     "text": [
      "300\n",
      "33.333333333333336\n",
      "33\n",
      "1\n",
      "1000000\n",
      "10.0\n"
     ]
    }
   ],
   "source": [
    "#2. 3-21 (a)\n",
    "x=100\n",
    "y=3\n",
    "print(x*y)\n",
    "print(x/y)\n",
    "print(x//y)\n",
    "print(x%y)\n",
    "print(x**y)\n",
    "print(x**0.5)"
   ]
  },
  {
   "cell_type": "code",
   "execution_count": null,
   "metadata": {},
   "outputs": [],
   "source": []
  }
 ],
 "metadata": {
  "kernelspec": {
   "display_name": "Python 3",
   "language": "python",
   "name": "python3"
  },
  "language_info": {
   "codemirror_mode": {
    "name": "ipython",
    "version": 3
   },
   "file_extension": ".py",
   "mimetype": "text/x-python",
   "name": "python",
   "nbconvert_exporter": "python",
   "pygments_lexer": "ipython3",
   "version": "3.7.3"
  }
 },
 "nbformat": 4,
 "nbformat_minor": 2
}
